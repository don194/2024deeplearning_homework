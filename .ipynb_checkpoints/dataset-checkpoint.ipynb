{
 "cells": [
  {
   "cell_type": "markdown",
   "id": "d498515c-97e6-4ebe-b90b-10b781137650",
   "metadata": {},
   "source": [
    "# loading the training, testing, and validation data"
   ]
  },
  {
   "cell_type": "code",
   "execution_count": 3,
   "id": "f75867d7-02c3-4833-845c-f2a98ddf58bd",
   "metadata": {},
   "outputs": [],
   "source": [
    "import h5py\n",
    "import numpy as np\n",
    "filename = 'dm3.kc167.example.h5'"
   ]
  },
  {
   "cell_type": "code",
   "execution_count": 4,
   "id": "81c031d8-b349-443b-adf4-b3978d59b692",
   "metadata": {},
   "outputs": [],
   "source": [
    "f = h5py.File(filename, 'r')\n",
    "x_train = np.array(f['x_train'])\n",
    "x_test = np.array(f['x_test'])\n",
    "x_val = np.array(f['x_val'])\n",
    "y_train = np.array(f['y_train'])\n",
    "y_test = np.array(f['y_test'])\n",
    "y_val= np.array(f['y_val'])"
   ]
  },
  {
   "cell_type": "code",
   "execution_count": 7,
   "id": "40db7cb9-c850-4398-9bfe-f6470fb00765",
   "metadata": {},
   "outputs": [
    {
     "name": "stdout",
     "output_type": "stream",
     "text": [
      "(28127, 1000, 4)\n"
     ]
    }
   ],
   "source": [
    "print(x_train.shape)\n",
    "print(x_test.shape)\n"
   ]
  },
  {
   "cell_type": "code",
   "execution_count": null,
   "id": "95d2293f-e5e8-42fa-af50-6e218e9527f4",
   "metadata": {},
   "outputs": [],
   "source": []
  }
 ],
 "metadata": {
  "kernelspec": {
   "display_name": "Python 3 (ipykernel)",
   "language": "python",
   "name": "python3"
  },
  "language_info": {
   "codemirror_mode": {
    "name": "ipython",
    "version": 3
   },
   "file_extension": ".py",
   "mimetype": "text/x-python",
   "name": "python",
   "nbconvert_exporter": "python",
   "pygments_lexer": "ipython3",
   "version": "3.12.2"
  }
 },
 "nbformat": 4,
 "nbformat_minor": 5
}
